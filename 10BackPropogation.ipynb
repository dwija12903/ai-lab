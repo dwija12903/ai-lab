{
 "cells": [
  {
   "cell_type": "code",
   "execution_count": 1,
   "metadata": {},
   "outputs": [],
   "source": [
    "# The code is for perceptron learning algorithm with backpropagation for multi-layer neural network\n",
    "import numpy as np"
   ]
  },
  {
   "cell_type": "code",
   "execution_count": 2,
   "metadata": {},
   "outputs": [],
   "source": [
    "class NeuralNetwork:\n",
    "    def __init__(self, input_size, hidden_size, output_size, learning_rate=0.1):\n",
    "        self.input_size = input_size\n",
    "        # The size of the hidden layer\n",
    "        self.hidden_size = hidden_size\n",
    "        self.output_size = output_size\n",
    "        self.learning_rate = learning_rate\n",
    "        \n",
    "        # Initialize weights and biases\n",
    "        self.weights_input_hidden = np.random.randn(self.input_size, self.hidden_size)\n",
    "        self.bias_hidden = np.zeros((1, self.hidden_size))\n",
    "        self.weights_hidden_output = np.random.randn(self.hidden_size, self.output_size)\n",
    "        self.bias_output = np.zeros((1, self.output_size))\n",
    "\n",
    "        \n",
    "    def sigmoid(self, x):\n",
    "        return 1 / (1 + np.exp(-x))\n",
    "    \n",
    "    def sigmoid_derivative(self, x):\n",
    "        return x * (1 - x)\n",
    "    \n",
    "    def forward(self, X):\n",
    "        # Forward pass\n",
    "        self.hidden_activation = self.sigmoid(np.dot(X, self.weights_input_hidden) + self.bias_hidden)\n",
    "        self.output = self.sigmoid(np.dot(self.hidden_activation, self.weights_hidden_output) + self.bias_output)\n",
    "        return self.output\n",
    "    \n",
    "    def backward(self, X, y, output):\n",
    "        # Backpropagation\n",
    "        error = y - output\n",
    "        d_output = error * self.sigmoid_derivative(output)\n",
    "        \n",
    "        error_hidden = d_output.dot(self.weights_hidden_output.T)\n",
    "        d_hidden = error_hidden * self.sigmoid_derivative(self.hidden_activation)\n",
    "        \n",
    "        # Update weights and biases\n",
    "        self.weights_hidden_output += self.hidden_activation.T.dot(d_output) * self.learning_rate\n",
    "        self.bias_output += np.sum(d_output, axis=0, keepdims=True) * self.learning_rate\n",
    "        self.weights_input_hidden += X.T.dot(d_hidden) * self.learning_rate\n",
    "        self.bias_hidden += np.sum(d_hidden, axis=0, keepdims=True) * self.learning_rate\n",
    "    \n",
    "    def train(self, X, y, epochs):\n",
    "        for epoch in range(epochs):\n",
    "            output = self.forward(X)\n",
    "            self.backward(X, y, output)\n",
    "            if epoch % 100 == 0:\n",
    "                loss = np.mean(np.square(y - output))\n",
    "                print(f'Epoch {epoch}, Loss: {loss}')\n",
    "    \n",
    "    def predict(self, X):\n",
    "        output = self.forward(X)\n",
    "        # Apply threshold to output to get the predicted class labels\n",
    "        thresholded_output = np.where(output >= 0.5, 1, 0)\n",
    "        return thresholded_output\n",
    "    \n",
    "    def evaluate(self, X, y):\n",
    "        output = self.forward(X)\n",
    "        loss = np.mean(np.square(y - output))\n",
    "        return loss\n",
    "    \n",
    "    def accuracy(self, y_true, y_pred):\n",
    "        return np.sum(y_true == y_pred) / len(y_true)"
   ]
  },
  {
   "cell_type": "code",
   "execution_count": 3,
   "metadata": {},
   "outputs": [],
   "source": [
    "input_size = 2\n",
    "hidden_size = 3\n",
    "output_size = 1\n",
    "\n",
    "# Create the neural network\n",
    "nn = NeuralNetwork(input_size, hidden_size, output_size)\n",
    "\n",
    "# Dummy training data (XOR problem)\n",
    "X = np.array([[0, 0], [0, 1], [1, 0], [1, 1]])\n",
    "y = np.array([[0], [1], [1], [0]])"
   ]
  },
  {
   "cell_type": "code",
   "execution_count": 4,
   "metadata": {},
   "outputs": [
    {
     "name": "stdout",
     "output_type": "stream",
     "text": [
      "Epoch 0, Loss: 0.28017396185177135\n",
      "Epoch 100, Loss: 0.24720750159465316\n",
      "Epoch 200, Loss: 0.24571115323755977\n",
      "Epoch 300, Loss: 0.2440231172272189\n",
      "Epoch 400, Loss: 0.24196907447928\n",
      "Epoch 500, Loss: 0.23939992223061107\n",
      "Epoch 600, Loss: 0.23618587557767148\n",
      "Epoch 700, Loss: 0.23221841618687758\n",
      "Epoch 800, Loss: 0.22741890916303514\n",
      "Epoch 900, Loss: 0.22175893586638828\n",
      "Predictions:\n",
      "[[0]\n",
      " [0]\n",
      " [1]\n",
      " [1]]\n"
     ]
    }
   ],
   "source": [
    "# Train the neural network\n",
    "nn.train(X, y, epochs=1000)\n",
    "\n",
    "# Predict\n",
    "print(\"Predictions:\")\n",
    "print(nn.predict(X))"
   ]
  },
  {
   "cell_type": "code",
   "execution_count": 5,
   "metadata": {},
   "outputs": [
    {
     "name": "stdout",
     "output_type": "stream",
     "text": [
      "Weights:\n",
      "[[-0.86157749  1.9148433   0.8379638 ]\n",
      " [ 3.02726844  2.04694547 -1.97923444]]\n",
      "Biases:\n",
      "[[ 0.38823942 -0.03955204 -0.68910992]]\n",
      "Loss:\n",
      "0.21529458225324008\n"
     ]
    }
   ],
   "source": [
    "# Getting the weights\n",
    "print(\"Weights:\")\n",
    "print(nn.weights_input_hidden)\n",
    "\n",
    "# Getting the biases\n",
    "print(\"Biases:\")\n",
    "print(nn.bias_hidden)\n",
    "\n",
    "# Evaluate the model\n",
    "print(\"Loss:\")\n",
    "print(nn.evaluate(X, y))\n"
   ]
  }
 ],
 "metadata": {
  "kernelspec": {
   "display_name": "Python 3",
   "language": "python",
   "name": "python3"
  },
  "language_info": {
   "codemirror_mode": {
    "name": "ipython",
    "version": 3
   },
   "file_extension": ".py",
   "mimetype": "text/x-python",
   "name": "python",
   "nbconvert_exporter": "python",
   "pygments_lexer": "ipython3",
   "version": "3.9.0"
  }
 },
 "nbformat": 4,
 "nbformat_minor": 2
}
